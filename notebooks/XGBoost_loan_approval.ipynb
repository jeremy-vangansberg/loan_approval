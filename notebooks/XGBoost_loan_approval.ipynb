{
  "cells": [
    {
      "cell_type": "code",
      "execution_count": 2,
      "metadata": {
        "id": "UCz1FrWMGA9f"
      },
      "outputs": [],
      "source": [
        "import pandas as pd\n",
        "from xgboost import XGBClassifier\n",
        "import numpy as np\n",
        "from sklearn.model_selection import train_test_split\n",
        "from sklearn.pipeline import make_pipeline\n",
        "from sklearn.compose import make_column_transformer\n",
        "from sklearn.preprocessing import OneHotEncoder\n",
        "from sklearn.model_selection import RandomizedSearchCV, GridSearchCV, cross_val_predict\n",
        "from sklearn.metrics import confusion_matrix, classification_report, ConfusionMatrixDisplay\n",
        "from sklearn.model_selection import cross_validate"
      ]
    },
    {
      "cell_type": "code",
      "execution_count": 3,
      "metadata": {
        "id": "qMw3_1GHGQ-C"
      },
      "outputs": [],
      "source": [
        "df = pd.read_csv('SBAnational.csv', low_memory=False)"
      ]
    },
    {
      "cell_type": "code",
      "execution_count": 4,
      "metadata": {
        "colab": {
          "base_uri": "https://localhost:8080/"
        },
        "id": "PamcPO_KGWFE",
        "outputId": "993360b7-0f1d-411e-e295-4903c120c212"
      },
      "outputs": [
        {
          "name": "stdout",
          "output_type": "stream",
          "text": [
            "<class 'pandas.core.frame.DataFrame'>\n",
            "RangeIndex: 899164 entries, 0 to 899163\n",
            "Data columns (total 27 columns):\n",
            " #   Column             Non-Null Count   Dtype  \n",
            "---  ------             --------------   -----  \n",
            " 0   LoanNr_ChkDgt      899164 non-null  int64  \n",
            " 1   Name               899150 non-null  object \n",
            " 2   City               899134 non-null  object \n",
            " 3   State              899150 non-null  object \n",
            " 4   Zip                899164 non-null  int64  \n",
            " 5   Bank               897605 non-null  object \n",
            " 6   BankState          897598 non-null  object \n",
            " 7   NAICS              899164 non-null  int64  \n",
            " 8   ApprovalDate       899164 non-null  object \n",
            " 9   ApprovalFY         899164 non-null  object \n",
            " 10  Term               899164 non-null  int64  \n",
            " 11  NoEmp              899164 non-null  int64  \n",
            " 12  NewExist           899028 non-null  float64\n",
            " 13  CreateJob          899164 non-null  int64  \n",
            " 14  RetainedJob        899164 non-null  int64  \n",
            " 15  FranchiseCode      899164 non-null  int64  \n",
            " 16  UrbanRural         899164 non-null  int64  \n",
            " 17  RevLineCr          894636 non-null  object \n",
            " 18  LowDoc             896582 non-null  object \n",
            " 19  ChgOffDate         162699 non-null  object \n",
            " 20  DisbursementDate   896796 non-null  object \n",
            " 21  DisbursementGross  899164 non-null  object \n",
            " 22  BalanceGross       899164 non-null  object \n",
            " 23  MIS_Status         897167 non-null  object \n",
            " 24  ChgOffPrinGr       899164 non-null  object \n",
            " 25  GrAppv             899164 non-null  object \n",
            " 26  SBA_Appv           899164 non-null  object \n",
            "dtypes: float64(1), int64(9), object(17)\n",
            "memory usage: 185.2+ MB\n"
          ]
        }
      ],
      "source": [
        "df.info()"
      ]
    },
    {
      "cell_type": "code",
      "execution_count": 5,
      "metadata": {
        "colab": {
          "base_uri": "https://localhost:8080/"
        },
        "id": "4TCrG2bnRFkl",
        "outputId": "d964935f-9091-4bed-957e-1773a38201f6"
      },
      "outputs": [
        {
          "data": {
            "text/plain": [
              "P I F     739609\n",
              "CHGOFF    157558\n",
              "Name: MIS_Status, dtype: int64"
            ]
          },
          "execution_count": 5,
          "metadata": {},
          "output_type": "execute_result"
        }
      ],
      "source": [
        "df['MIS_Status'].value_counts()"
      ]
    },
    {
      "cell_type": "code",
      "execution_count": 6,
      "metadata": {
        "id": "4-dm0xdoGYzn"
      },
      "outputs": [],
      "source": [
        "X = df.copy()\n",
        "X = X.drop(columns=['Name', 'LoanNr_ChkDgt', 'Bank', \n",
        "                     'BankState', 'DisbursementDate', 'ApprovalDate', \n",
        "                    'ApprovalFY', 'FranchiseCode', 'Zip', 'City', 'ChgOffDate', 'SBA_Appv', 'BalanceGross', 'DisbursementGross', 'ChgOffPrinGr'])"
      ]
    },
    {
      "cell_type": "code",
      "execution_count": 7,
      "metadata": {
        "colab": {
          "base_uri": "https://localhost:8080/"
        },
        "id": "KQG_sFRqG6MR",
        "outputId": "1debc333-6869-41b4-bfd6-778c666dda62"
      },
      "outputs": [
        {
          "name": "stdout",
          "output_type": "stream",
          "text": [
            "<class 'pandas.core.frame.DataFrame'>\n",
            "RangeIndex: 899164 entries, 0 to 899163\n",
            "Data columns (total 12 columns):\n",
            " #   Column       Non-Null Count   Dtype  \n",
            "---  ------       --------------   -----  \n",
            " 0   State        899150 non-null  object \n",
            " 1   NAICS        899164 non-null  int64  \n",
            " 2   Term         899164 non-null  int64  \n",
            " 3   NoEmp        899164 non-null  int64  \n",
            " 4   NewExist     899028 non-null  float64\n",
            " 5   CreateJob    899164 non-null  int64  \n",
            " 6   RetainedJob  899164 non-null  int64  \n",
            " 7   UrbanRural   899164 non-null  int64  \n",
            " 8   RevLineCr    894636 non-null  object \n",
            " 9   LowDoc       896582 non-null  object \n",
            " 10  MIS_Status   897167 non-null  object \n",
            " 11  GrAppv       899164 non-null  object \n",
            "dtypes: float64(1), int64(6), object(5)\n",
            "memory usage: 82.3+ MB\n"
          ]
        }
      ],
      "source": [
        "X.info()"
      ]
    },
    {
      "cell_type": "code",
      "execution_count": 8,
      "metadata": {
        "id": "iyihMSJgJdlx"
      },
      "outputs": [],
      "source": [
        "X = X.dropna(subset=['MIS_Status'])"
      ]
    },
    {
      "cell_type": "code",
      "execution_count": 9,
      "metadata": {
        "colab": {
          "base_uri": "https://localhost:8080/"
        },
        "id": "2-p6qfJ-Rd3b",
        "outputId": "4ea770c9-072e-4af4-ebec-0d2290a7765f"
      },
      "outputs": [
        {
          "name": "stdout",
          "output_type": "stream",
          "text": [
            "<class 'pandas.core.frame.DataFrame'>\n",
            "Int64Index: 897167 entries, 0 to 899163\n",
            "Data columns (total 12 columns):\n",
            " #   Column       Non-Null Count   Dtype  \n",
            "---  ------       --------------   -----  \n",
            " 0   State        897154 non-null  object \n",
            " 1   NAICS        897167 non-null  int64  \n",
            " 2   Term         897167 non-null  int64  \n",
            " 3   NoEmp        897167 non-null  int64  \n",
            " 4   NewExist     897033 non-null  float64\n",
            " 5   CreateJob    897167 non-null  int64  \n",
            " 6   RetainedJob  897167 non-null  int64  \n",
            " 7   UrbanRural   897167 non-null  int64  \n",
            " 8   RevLineCr    892647 non-null  object \n",
            " 9   LowDoc       894589 non-null  object \n",
            " 10  MIS_Status   897167 non-null  object \n",
            " 11  GrAppv       897167 non-null  object \n",
            "dtypes: float64(1), int64(6), object(5)\n",
            "memory usage: 89.0+ MB\n"
          ]
        }
      ],
      "source": [
        "X.info()"
      ]
    },
    {
      "cell_type": "code",
      "execution_count": 10,
      "metadata": {
        "colab": {
          "base_uri": "https://localhost:8080/"
        },
        "id": "9C_lMwGuHAiA",
        "outputId": "319b783c-aa96-4f4d-f9bb-b34f761c7c60"
      },
      "outputs": [
        {
          "name": "stderr",
          "output_type": "stream",
          "text": [
            "/var/folders/2l/lrfmhv4549d6_vj6k4zkk90c0000gn/T/ipykernel_22464/3200432588.py:1: FutureWarning: The default value of regex will change from True to False in a future version. In addition, single character regular expressions will *not* be treated as literal strings when regex=True.\n",
            "  X['GrAppv'] = X['GrAppv'].str.replace('$', '').str.replace(',','').str.strip().astype('float64').astype('int64')\n"
          ]
        }
      ],
      "source": [
        "X['GrAppv'] = X['GrAppv'].str.replace('$', '').str.replace(',','').str.strip().astype('float64').astype('int64')"
      ]
    },
    {
      "cell_type": "code",
      "execution_count": 11,
      "metadata": {
        "id": "pdSSFml-Hdae"
      },
      "outputs": [],
      "source": [
        "values = ['0','T','1','R','`','2','C','3',',','7','A','5','.','4','-','Q']\n",
        "X['RevLineCr'] = X['RevLineCr'].mask(X.RevLineCr.isin(values))"
      ]
    },
    {
      "cell_type": "code",
      "execution_count": 12,
      "metadata": {
        "id": "l4I-t9PaHvl-"
      },
      "outputs": [],
      "source": [
        "values = ['0','C','S','A','R','1']\n",
        "X['LowDoc'] = X['LowDoc'].mask(X.LowDoc.isin(values))"
      ]
    },
    {
      "cell_type": "code",
      "execution_count": 13,
      "metadata": {
        "colab": {
          "base_uri": "https://localhost:8080/"
        },
        "id": "VEuC45FeTK4f",
        "outputId": "0b3fbecb-d7c4-4962-cfc3-747cd6092021"
      },
      "outputs": [
        {
          "data": {
            "text/plain": [
              "N    780997\n",
              "Y    110171\n",
              "Name: LowDoc, dtype: int64"
            ]
          },
          "execution_count": 13,
          "metadata": {},
          "output_type": "execute_result"
        }
      ],
      "source": [
        "X['LowDoc'].value_counts()"
      ]
    },
    {
      "cell_type": "code",
      "execution_count": 14,
      "metadata": {
        "colab": {
          "base_uri": "https://localhost:8080/"
        },
        "id": "Ut2YM0LdHwAZ",
        "outputId": "e05322c8-fcf8-4142-d02d-4ea309b307b0"
      },
      "outputs": [
        {
          "name": "stdout",
          "output_type": "stream",
          "text": [
            "<class 'pandas.core.frame.DataFrame'>\n",
            "Int64Index: 897167 entries, 0 to 899163\n",
            "Data columns (total 12 columns):\n",
            " #   Column       Non-Null Count   Dtype  \n",
            "---  ------       --------------   -----  \n",
            " 0   State        897154 non-null  object \n",
            " 1   NAICS        897167 non-null  int64  \n",
            " 2   Term         897167 non-null  int64  \n",
            " 3   NoEmp        897167 non-null  int64  \n",
            " 4   NewExist     897033 non-null  float64\n",
            " 5   CreateJob    897167 non-null  int64  \n",
            " 6   RetainedJob  897167 non-null  int64  \n",
            " 7   UrbanRural   897167 non-null  int64  \n",
            " 8   RevLineCr    619912 non-null  object \n",
            " 9   LowDoc       891168 non-null  object \n",
            " 10  MIS_Status   897167 non-null  object \n",
            " 11  GrAppv       897167 non-null  int64  \n",
            "dtypes: float64(1), int64(7), object(4)\n",
            "memory usage: 89.0+ MB\n"
          ]
        }
      ],
      "source": [
        "X.info()"
      ]
    },
    {
      "cell_type": "code",
      "execution_count": 15,
      "metadata": {
        "id": "b5XYWDrdHzHn"
      },
      "outputs": [],
      "source": [
        "X['NewExist'] = X['NewExist'].replace({2:False, 1:True})"
      ]
    },
    {
      "cell_type": "code",
      "execution_count": 16,
      "metadata": {
        "id": "bSfaNLTTHmjd"
      },
      "outputs": [],
      "source": [
        "cat = ['RevLineCr', 'LowDoc', 'NewExist', 'NAICS', 'State']"
      ]
    },
    {
      "cell_type": "code",
      "execution_count": 17,
      "metadata": {
        "id": "23A4iLM7IXeG"
      },
      "outputs": [],
      "source": [
        "X['NAICS'] = X['NAICS'].astype('str').apply(lambda x : x[:2])"
      ]
    },
    {
      "cell_type": "code",
      "execution_count": 18,
      "metadata": {
        "id": "FVBPuBCUIcGe"
      },
      "outputs": [],
      "source": [
        "y = X['MIS_Status'].replace({'P I F':0, 'CHGOFF':1}) \n",
        "X = X.drop(['MIS_Status'], axis=1)\n",
        "\n",
        "num = list(X.select_dtypes(include=['int', 'float']).columns)"
      ]
    },
    {
      "cell_type": "code",
      "execution_count": 19,
      "metadata": {
        "id": "dIeGEXW-JCZV"
      },
      "outputs": [],
      "source": [
        "ohe = OneHotEncoder()\n",
        "preprocessor = make_column_transformer(\n",
        "    (ohe, cat)\n",
        ")"
      ]
    },
    {
      "cell_type": "code",
      "execution_count": 20,
      "metadata": {
        "colab": {
          "base_uri": "https://localhost:8080/"
        },
        "id": "eHvkqrT_JtNP",
        "outputId": "b8b5d018-4e1b-4a97-9607-095711d3ed84"
      },
      "outputs": [
        {
          "name": "stdout",
          "output_type": "stream",
          "text": [
            "<class 'pandas.core.frame.DataFrame'>\n",
            "Int64Index: 897167 entries, 0 to 899163\n",
            "Data columns (total 11 columns):\n",
            " #   Column       Non-Null Count   Dtype \n",
            "---  ------       --------------   ----- \n",
            " 0   State        897154 non-null  object\n",
            " 1   NAICS        897167 non-null  object\n",
            " 2   Term         897167 non-null  int64 \n",
            " 3   NoEmp        897167 non-null  int64 \n",
            " 4   NewExist     897033 non-null  object\n",
            " 5   CreateJob    897167 non-null  int64 \n",
            " 6   RetainedJob  897167 non-null  int64 \n",
            " 7   UrbanRural   897167 non-null  int64 \n",
            " 8   RevLineCr    619912 non-null  object\n",
            " 9   LowDoc       891168 non-null  object\n",
            " 10  GrAppv       897167 non-null  int64 \n",
            "dtypes: int64(6), object(5)\n",
            "memory usage: 82.1+ MB\n"
          ]
        }
      ],
      "source": [
        "X.info()"
      ]
    },
    {
      "cell_type": "code",
      "execution_count": 21,
      "metadata": {
        "colab": {
          "base_uri": "https://localhost:8080/"
        },
        "id": "zCM3oanNS4SM",
        "outputId": "d24c654a-c289-4dcf-9973-17f846c1c004"
      },
      "outputs": [
        {
          "name": "stdout",
          "output_type": "stream",
          "text": [
            "N    419252\n",
            "Y    200660\n",
            "Name: RevLineCr, dtype: int64\n",
            "N    780997\n",
            "Y    110171\n",
            "Name: LowDoc, dtype: int64\n",
            "True     643446\n",
            "False    253587\n",
            "Name: NewExist, dtype: int64\n",
            "0     201667\n",
            "44     84567\n",
            "81     72395\n",
            "54     67922\n",
            "72     67511\n",
            "23     66492\n",
            "62     55264\n",
            "42     48673\n",
            "45     42408\n",
            "33     38206\n",
            "56     32529\n",
            "48     20198\n",
            "32     17905\n",
            "71     14616\n",
            "53     13588\n",
            "31     11792\n",
            "51     11362\n",
            "52      9470\n",
            "11      8995\n",
            "61      6401\n",
            "49      2210\n",
            "21      1851\n",
            "22       662\n",
            "55       256\n",
            "92       227\n",
            "Name: NAICS, dtype: int64\n",
            "CA    130488\n",
            "TX     70401\n",
            "NY     57394\n",
            "FL     41192\n",
            "PA     34801\n",
            "OH     32498\n",
            "IL     29594\n",
            "MA     25092\n",
            "MN     24359\n",
            "NJ     24010\n",
            "WA     23255\n",
            "GA     22272\n",
            "WI     21021\n",
            "MO     20652\n",
            "CO     20598\n",
            "MI     20493\n",
            "UT     18772\n",
            "AZ     17624\n",
            "NC     14286\n",
            "IN     14079\n",
            "MD     13259\n",
            "VA     13207\n",
            "CT     12127\n",
            "NH     12023\n",
            "IA     11986\n",
            "KS     11455\n",
            "OR     11041\n",
            "OK      9945\n",
            "LA      9570\n",
            "ID      9496\n",
            "TN      9400\n",
            "RI      8948\n",
            "MT      8737\n",
            "AL      8360\n",
            "NV      8022\n",
            "KY      7720\n",
            "MS      7668\n",
            "NE      6381\n",
            "AR      6333\n",
            "NM      6026\n",
            "ME      5937\n",
            "SC      5595\n",
            "VT      5433\n",
            "ND      5237\n",
            "SD      4428\n",
            "HI      3607\n",
            "WV      3285\n",
            "WY      2838\n",
            "AK      2403\n",
            "DE      2193\n",
            "DC      1613\n",
            "Name: State, dtype: int64\n"
          ]
        }
      ],
      "source": [
        "for col in cat:\n",
        "  print(X[col].value_counts())"
      ]
    },
    {
      "cell_type": "code",
      "execution_count": 22,
      "metadata": {
        "id": "EUGLKWr0JXnd"
      },
      "outputs": [],
      "source": [
        "X_train, X_test, y_train, y_test = train_test_split(X, y, shuffle=True, test_size=0.05, random_state=42, stratify=y)"
      ]
    },
    {
      "cell_type": "code",
      "execution_count": 23,
      "metadata": {
        "colab": {
          "base_uri": "https://localhost:8080/",
          "height": 424
        },
        "id": "-8v1-DzTLHpy",
        "outputId": "604c3895-c852-4a0d-8507-7153db0bbdbb"
      },
      "outputs": [
        {
          "data": {
            "text/html": [
              "<div>\n",
              "<style scoped>\n",
              "    .dataframe tbody tr th:only-of-type {\n",
              "        vertical-align: middle;\n",
              "    }\n",
              "\n",
              "    .dataframe tbody tr th {\n",
              "        vertical-align: top;\n",
              "    }\n",
              "\n",
              "    .dataframe thead th {\n",
              "        text-align: right;\n",
              "    }\n",
              "</style>\n",
              "<table border=\"1\" class=\"dataframe\">\n",
              "  <thead>\n",
              "    <tr style=\"text-align: right;\">\n",
              "      <th></th>\n",
              "      <th>State</th>\n",
              "      <th>NAICS</th>\n",
              "      <th>Term</th>\n",
              "      <th>NoEmp</th>\n",
              "      <th>NewExist</th>\n",
              "      <th>CreateJob</th>\n",
              "      <th>RetainedJob</th>\n",
              "      <th>UrbanRural</th>\n",
              "      <th>RevLineCr</th>\n",
              "      <th>LowDoc</th>\n",
              "      <th>GrAppv</th>\n",
              "    </tr>\n",
              "  </thead>\n",
              "  <tbody>\n",
              "    <tr>\n",
              "      <th>877120</th>\n",
              "      <td>FL</td>\n",
              "      <td>44</td>\n",
              "      <td>2</td>\n",
              "      <td>2</td>\n",
              "      <td>True</td>\n",
              "      <td>1</td>\n",
              "      <td>2</td>\n",
              "      <td>1</td>\n",
              "      <td>Y</td>\n",
              "      <td>N</td>\n",
              "      <td>70000</td>\n",
              "    </tr>\n",
              "    <tr>\n",
              "      <th>113801</th>\n",
              "      <td>IL</td>\n",
              "      <td>0</td>\n",
              "      <td>180</td>\n",
              "      <td>110</td>\n",
              "      <td>True</td>\n",
              "      <td>0</td>\n",
              "      <td>0</td>\n",
              "      <td>0</td>\n",
              "      <td>N</td>\n",
              "      <td>N</td>\n",
              "      <td>500000</td>\n",
              "    </tr>\n",
              "    <tr>\n",
              "      <th>399187</th>\n",
              "      <td>WI</td>\n",
              "      <td>0</td>\n",
              "      <td>120</td>\n",
              "      <td>1</td>\n",
              "      <td>False</td>\n",
              "      <td>0</td>\n",
              "      <td>0</td>\n",
              "      <td>1</td>\n",
              "      <td>N</td>\n",
              "      <td>N</td>\n",
              "      <td>62000</td>\n",
              "    </tr>\n",
              "    <tr>\n",
              "      <th>302622</th>\n",
              "      <td>IL</td>\n",
              "      <td>48</td>\n",
              "      <td>60</td>\n",
              "      <td>2</td>\n",
              "      <td>False</td>\n",
              "      <td>1</td>\n",
              "      <td>1</td>\n",
              "      <td>1</td>\n",
              "      <td>N</td>\n",
              "      <td>N</td>\n",
              "      <td>15000</td>\n",
              "    </tr>\n",
              "    <tr>\n",
              "      <th>266298</th>\n",
              "      <td>MD</td>\n",
              "      <td>44</td>\n",
              "      <td>240</td>\n",
              "      <td>12</td>\n",
              "      <td>True</td>\n",
              "      <td>0</td>\n",
              "      <td>0</td>\n",
              "      <td>0</td>\n",
              "      <td>NaN</td>\n",
              "      <td>N</td>\n",
              "      <td>625000</td>\n",
              "    </tr>\n",
              "    <tr>\n",
              "      <th>...</th>\n",
              "      <td>...</td>\n",
              "      <td>...</td>\n",
              "      <td>...</td>\n",
              "      <td>...</td>\n",
              "      <td>...</td>\n",
              "      <td>...</td>\n",
              "      <td>...</td>\n",
              "      <td>...</td>\n",
              "      <td>...</td>\n",
              "      <td>...</td>\n",
              "      <td>...</td>\n",
              "    </tr>\n",
              "    <tr>\n",
              "      <th>704157</th>\n",
              "      <td>MA</td>\n",
              "      <td>44</td>\n",
              "      <td>96</td>\n",
              "      <td>5</td>\n",
              "      <td>True</td>\n",
              "      <td>0</td>\n",
              "      <td>5</td>\n",
              "      <td>1</td>\n",
              "      <td>NaN</td>\n",
              "      <td>N</td>\n",
              "      <td>190000</td>\n",
              "    </tr>\n",
              "    <tr>\n",
              "      <th>801213</th>\n",
              "      <td>OH</td>\n",
              "      <td>0</td>\n",
              "      <td>120</td>\n",
              "      <td>5</td>\n",
              "      <td>True</td>\n",
              "      <td>0</td>\n",
              "      <td>0</td>\n",
              "      <td>0</td>\n",
              "      <td>N</td>\n",
              "      <td>Y</td>\n",
              "      <td>75000</td>\n",
              "    </tr>\n",
              "    <tr>\n",
              "      <th>475246</th>\n",
              "      <td>SD</td>\n",
              "      <td>45</td>\n",
              "      <td>180</td>\n",
              "      <td>3</td>\n",
              "      <td>True</td>\n",
              "      <td>0</td>\n",
              "      <td>0</td>\n",
              "      <td>0</td>\n",
              "      <td>N</td>\n",
              "      <td>N</td>\n",
              "      <td>95000</td>\n",
              "    </tr>\n",
              "    <tr>\n",
              "      <th>285255</th>\n",
              "      <td>VT</td>\n",
              "      <td>0</td>\n",
              "      <td>240</td>\n",
              "      <td>6</td>\n",
              "      <td>True</td>\n",
              "      <td>6</td>\n",
              "      <td>0</td>\n",
              "      <td>0</td>\n",
              "      <td>NaN</td>\n",
              "      <td>N</td>\n",
              "      <td>136000</td>\n",
              "    </tr>\n",
              "    <tr>\n",
              "      <th>133712</th>\n",
              "      <td>MI</td>\n",
              "      <td>23</td>\n",
              "      <td>84</td>\n",
              "      <td>5</td>\n",
              "      <td>True</td>\n",
              "      <td>5</td>\n",
              "      <td>5</td>\n",
              "      <td>1</td>\n",
              "      <td>N</td>\n",
              "      <td>N</td>\n",
              "      <td>400000</td>\n",
              "    </tr>\n",
              "  </tbody>\n",
              "</table>\n",
              "<p>852308 rows × 11 columns</p>\n",
              "</div>"
            ],
            "text/plain": [
              "       State NAICS  Term  NoEmp NewExist  CreateJob  RetainedJob  UrbanRural  \\\n",
              "877120    FL    44     2      2     True          1            2           1   \n",
              "113801    IL     0   180    110     True          0            0           0   \n",
              "399187    WI     0   120      1    False          0            0           1   \n",
              "302622    IL    48    60      2    False          1            1           1   \n",
              "266298    MD    44   240     12     True          0            0           0   \n",
              "...      ...   ...   ...    ...      ...        ...          ...         ...   \n",
              "704157    MA    44    96      5     True          0            5           1   \n",
              "801213    OH     0   120      5     True          0            0           0   \n",
              "475246    SD    45   180      3     True          0            0           0   \n",
              "285255    VT     0   240      6     True          6            0           0   \n",
              "133712    MI    23    84      5     True          5            5           1   \n",
              "\n",
              "       RevLineCr LowDoc  GrAppv  \n",
              "877120         Y      N   70000  \n",
              "113801         N      N  500000  \n",
              "399187         N      N   62000  \n",
              "302622         N      N   15000  \n",
              "266298       NaN      N  625000  \n",
              "...          ...    ...     ...  \n",
              "704157       NaN      N  190000  \n",
              "801213         N      Y   75000  \n",
              "475246         N      N   95000  \n",
              "285255       NaN      N  136000  \n",
              "133712         N      N  400000  \n",
              "\n",
              "[852308 rows x 11 columns]"
            ]
          },
          "execution_count": 23,
          "metadata": {},
          "output_type": "execute_result"
        }
      ],
      "source": [
        "X_train"
      ]
    },
    {
      "cell_type": "code",
      "execution_count": 26,
      "metadata": {
        "colab": {
          "base_uri": "https://localhost:8080/"
        },
        "id": "9-Q5E1szJYQR",
        "outputId": "15cd6937-c18f-4af9-9911-2501fedeca91"
      },
      "outputs": [
        {
          "ename": "XGBoostError",
          "evalue": "[09:20:12] /Users/runner/work/xgboost/xgboost/python-package/build/temp.macosx-11.0-arm64-cpython-38/xgboost/src/gbm/../common/common.h:239: XGBoost version not compiled with GPU support.\nStack trace:\n  [bt] (0) 1   libxgboost.dylib                    0x00000001483e6534 dmlc::LogMessageFatal::~LogMessageFatal() + 124\n  [bt] (1) 2   libxgboost.dylib                    0x00000001484cb760 xgboost::gbm::GBTree::ConfigureUpdaters() + 476\n  [bt] (2) 3   libxgboost.dylib                    0x00000001484c68c0 xgboost::gbm::GBTree::Configure(std::__1::vector<std::__1::pair<std::__1::basic_string<char, std::__1::char_traits<char>, std::__1::allocator<char> >, std::__1::basic_string<char, std::__1::char_traits<char>, std::__1::allocator<char> > >, std::__1::allocator<std::__1::pair<std::__1::basic_string<char, std::__1::char_traits<char>, std::__1::allocator<char> >, std::__1::basic_string<char, std::__1::char_traits<char>, std::__1::allocator<char> > > > > const&) + 952\n  [bt] (3) 4   libxgboost.dylib                    0x00000001484e66f8 xgboost::LearnerConfiguration::Configure() + 1124\n  [bt] (4) 5   libxgboost.dylib                    0x00000001483ff140 XGBoosterBoostedRounds + 104\n  [bt] (5) 6   libffi.8.dylib                      0x00000001039f404c ffi_call_SYSV + 76\n  [bt] (6) 7   libffi.8.dylib                      0x00000001039f17d4 ffi_call_int + 1336\n  [bt] (7) 8   _ctypes.cpython-310-darwin.so       0x00000001039d41ac _ctypes_callproc + 952\n  [bt] (8) 9   _ctypes.cpython-310-darwin.so       0x00000001039ce388 PyCFuncPtr_call + 228\n\n",
          "output_type": "error",
          "traceback": [
            "\u001b[0;31m---------------------------------------------------------------------------\u001b[0m",
            "\u001b[0;31mXGBoostError\u001b[0m                              Traceback (most recent call last)",
            "Cell \u001b[0;32mIn[26], line 7\u001b[0m\n\u001b[1;32m      1\u001b[0m base_xgb \u001b[39m=\u001b[39m XGBClassifier(objective\u001b[39m=\u001b[39m\u001b[39m'\u001b[39m\u001b[39mbinary:logistic\u001b[39m\u001b[39m'\u001b[39m,\n\u001b[1;32m      2\u001b[0m  seed\u001b[39m=\u001b[39m\u001b[39m42\u001b[39m, random_state\u001b[39m=\u001b[39m\u001b[39m42\u001b[39m, tree_method\u001b[39m=\u001b[39m\u001b[39m'\u001b[39m\u001b[39mgpu_hist\u001b[39m\u001b[39m'\u001b[39m, n_jobs\u001b[39m=\u001b[39m\u001b[39m-\u001b[39m\u001b[39m1\u001b[39m, early_stopping_rounds\u001b[39m=\u001b[39m\u001b[39m10\u001b[39m,\n\u001b[1;32m      3\u001b[0m eval_set\u001b[39m=\u001b[39m[(X_test, y_test)])\n\u001b[1;32m      5\u001b[0m base_xgb_pipe \u001b[39m=\u001b[39m make_pipeline(preprocessor, base_xgb)\n\u001b[0;32m----> 7\u001b[0m base_xgb_pipe\u001b[39m.\u001b[39;49mfit(X_train, \n\u001b[1;32m      8\u001b[0m                   y_train,\n\u001b[1;32m      9\u001b[0m                   xgbclassifier__verbose\u001b[39m=\u001b[39;49m\u001b[39mFalse\u001b[39;49;00m\n\u001b[1;32m     10\u001b[0m                   )\n",
            "File \u001b[0;32m/opt/miniconda3/envs/ml_api/lib/python3.10/site-packages/sklearn/pipeline.py:406\u001b[0m, in \u001b[0;36mPipeline.fit\u001b[0;34m(self, X, y, **fit_params)\u001b[0m\n\u001b[1;32m    404\u001b[0m     \u001b[39mif\u001b[39;00m \u001b[39mself\u001b[39m\u001b[39m.\u001b[39m_final_estimator \u001b[39m!=\u001b[39m \u001b[39m\"\u001b[39m\u001b[39mpassthrough\u001b[39m\u001b[39m\"\u001b[39m:\n\u001b[1;32m    405\u001b[0m         fit_params_last_step \u001b[39m=\u001b[39m fit_params_steps[\u001b[39mself\u001b[39m\u001b[39m.\u001b[39msteps[\u001b[39m-\u001b[39m\u001b[39m1\u001b[39m][\u001b[39m0\u001b[39m]]\n\u001b[0;32m--> 406\u001b[0m         \u001b[39mself\u001b[39;49m\u001b[39m.\u001b[39;49m_final_estimator\u001b[39m.\u001b[39;49mfit(Xt, y, \u001b[39m*\u001b[39;49m\u001b[39m*\u001b[39;49mfit_params_last_step)\n\u001b[1;32m    408\u001b[0m \u001b[39mreturn\u001b[39;00m \u001b[39mself\u001b[39m\n",
            "File \u001b[0;32m/opt/miniconda3/envs/ml_api/lib/python3.10/site-packages/xgboost/core.py:620\u001b[0m, in \u001b[0;36mrequire_keyword_args.<locals>.throw_if.<locals>.inner_f\u001b[0;34m(*args, **kwargs)\u001b[0m\n\u001b[1;32m    618\u001b[0m \u001b[39mfor\u001b[39;00m k, arg \u001b[39min\u001b[39;00m \u001b[39mzip\u001b[39m(sig\u001b[39m.\u001b[39mparameters, args):\n\u001b[1;32m    619\u001b[0m     kwargs[k] \u001b[39m=\u001b[39m arg\n\u001b[0;32m--> 620\u001b[0m \u001b[39mreturn\u001b[39;00m func(\u001b[39m*\u001b[39;49m\u001b[39m*\u001b[39;49mkwargs)\n",
            "File \u001b[0;32m/opt/miniconda3/envs/ml_api/lib/python3.10/site-packages/xgboost/sklearn.py:1490\u001b[0m, in \u001b[0;36mXGBClassifier.fit\u001b[0;34m(self, X, y, sample_weight, base_margin, eval_set, eval_metric, early_stopping_rounds, verbose, xgb_model, sample_weight_eval_set, base_margin_eval_set, feature_weights, callbacks)\u001b[0m\n\u001b[1;32m   1462\u001b[0m (\n\u001b[1;32m   1463\u001b[0m     model,\n\u001b[1;32m   1464\u001b[0m     metric,\n\u001b[0;32m   (...)\u001b[0m\n\u001b[1;32m   1469\u001b[0m     xgb_model, eval_metric, params, early_stopping_rounds, callbacks\n\u001b[1;32m   1470\u001b[0m )\n\u001b[1;32m   1471\u001b[0m train_dmatrix, evals \u001b[39m=\u001b[39m _wrap_evaluation_matrices(\n\u001b[1;32m   1472\u001b[0m     missing\u001b[39m=\u001b[39m\u001b[39mself\u001b[39m\u001b[39m.\u001b[39mmissing,\n\u001b[1;32m   1473\u001b[0m     X\u001b[39m=\u001b[39mX,\n\u001b[0;32m   (...)\u001b[0m\n\u001b[1;32m   1487\u001b[0m     feature_types\u001b[39m=\u001b[39m\u001b[39mself\u001b[39m\u001b[39m.\u001b[39mfeature_types,\n\u001b[1;32m   1488\u001b[0m )\n\u001b[0;32m-> 1490\u001b[0m \u001b[39mself\u001b[39m\u001b[39m.\u001b[39m_Booster \u001b[39m=\u001b[39m train(\n\u001b[1;32m   1491\u001b[0m     params,\n\u001b[1;32m   1492\u001b[0m     train_dmatrix,\n\u001b[1;32m   1493\u001b[0m     \u001b[39mself\u001b[39;49m\u001b[39m.\u001b[39;49mget_num_boosting_rounds(),\n\u001b[1;32m   1494\u001b[0m     evals\u001b[39m=\u001b[39;49mevals,\n\u001b[1;32m   1495\u001b[0m     early_stopping_rounds\u001b[39m=\u001b[39;49mearly_stopping_rounds,\n\u001b[1;32m   1496\u001b[0m     evals_result\u001b[39m=\u001b[39;49mevals_result,\n\u001b[1;32m   1497\u001b[0m     obj\u001b[39m=\u001b[39;49mobj,\n\u001b[1;32m   1498\u001b[0m     custom_metric\u001b[39m=\u001b[39;49mmetric,\n\u001b[1;32m   1499\u001b[0m     verbose_eval\u001b[39m=\u001b[39;49mverbose,\n\u001b[1;32m   1500\u001b[0m     xgb_model\u001b[39m=\u001b[39;49mmodel,\n\u001b[1;32m   1501\u001b[0m     callbacks\u001b[39m=\u001b[39;49mcallbacks,\n\u001b[1;32m   1502\u001b[0m )\n\u001b[1;32m   1504\u001b[0m \u001b[39mif\u001b[39;00m \u001b[39mnot\u001b[39;00m callable(\u001b[39mself\u001b[39m\u001b[39m.\u001b[39mobjective):\n\u001b[1;32m   1505\u001b[0m     \u001b[39mself\u001b[39m\u001b[39m.\u001b[39mobjective \u001b[39m=\u001b[39m params[\u001b[39m\"\u001b[39m\u001b[39mobjective\u001b[39m\u001b[39m\"\u001b[39m]\n",
            "File \u001b[0;32m/opt/miniconda3/envs/ml_api/lib/python3.10/site-packages/xgboost/core.py:620\u001b[0m, in \u001b[0;36mrequire_keyword_args.<locals>.throw_if.<locals>.inner_f\u001b[0;34m(*args, **kwargs)\u001b[0m\n\u001b[1;32m    618\u001b[0m \u001b[39mfor\u001b[39;00m k, arg \u001b[39min\u001b[39;00m \u001b[39mzip\u001b[39m(sig\u001b[39m.\u001b[39mparameters, args):\n\u001b[1;32m    619\u001b[0m     kwargs[k] \u001b[39m=\u001b[39m arg\n\u001b[0;32m--> 620\u001b[0m \u001b[39mreturn\u001b[39;00m func(\u001b[39m*\u001b[39;49m\u001b[39m*\u001b[39;49mkwargs)\n",
            "File \u001b[0;32m/opt/miniconda3/envs/ml_api/lib/python3.10/site-packages/xgboost/training.py:180\u001b[0m, in \u001b[0;36mtrain\u001b[0;34m(params, dtrain, num_boost_round, evals, obj, feval, maximize, early_stopping_rounds, evals_result, verbose_eval, xgb_model, callbacks, custom_metric)\u001b[0m\n\u001b[1;32m    168\u001b[0m     callbacks\u001b[39m.\u001b[39mappend(\n\u001b[1;32m    169\u001b[0m         EarlyStopping(rounds\u001b[39m=\u001b[39mearly_stopping_rounds, maximize\u001b[39m=\u001b[39mmaximize)\n\u001b[1;32m    170\u001b[0m     )\n\u001b[1;32m    171\u001b[0m cb_container \u001b[39m=\u001b[39m CallbackContainer(\n\u001b[1;32m    172\u001b[0m     callbacks,\n\u001b[1;32m    173\u001b[0m     metric\u001b[39m=\u001b[39mmetric_fn,\n\u001b[0;32m   (...)\u001b[0m\n\u001b[1;32m    177\u001b[0m     output_margin\u001b[39m=\u001b[39mcallable(obj) \u001b[39mor\u001b[39;00m metric_fn \u001b[39mis\u001b[39;00m feval,\n\u001b[1;32m    178\u001b[0m )\n\u001b[0;32m--> 180\u001b[0m bst \u001b[39m=\u001b[39m cb_container\u001b[39m.\u001b[39;49mbefore_training(bst)\n\u001b[1;32m    182\u001b[0m \u001b[39mfor\u001b[39;00m i \u001b[39min\u001b[39;00m \u001b[39mrange\u001b[39m(start_iteration, num_boost_round):\n\u001b[1;32m    183\u001b[0m     \u001b[39mif\u001b[39;00m cb_container\u001b[39m.\u001b[39mbefore_iteration(bst, i, dtrain, evals):\n",
            "File \u001b[0;32m/opt/miniconda3/envs/ml_api/lib/python3.10/site-packages/xgboost/callback.py:148\u001b[0m, in \u001b[0;36mCallbackContainer.before_training\u001b[0;34m(self, model)\u001b[0m\n\u001b[1;32m    146\u001b[0m \u001b[39m'''Function called before training.'''\u001b[39;00m\n\u001b[1;32m    147\u001b[0m \u001b[39mfor\u001b[39;00m c \u001b[39min\u001b[39;00m \u001b[39mself\u001b[39m\u001b[39m.\u001b[39mcallbacks:\n\u001b[0;32m--> 148\u001b[0m     model \u001b[39m=\u001b[39m c\u001b[39m.\u001b[39;49mbefore_training(model\u001b[39m=\u001b[39;49mmodel)\n\u001b[1;32m    149\u001b[0m     msg \u001b[39m=\u001b[39m \u001b[39m'\u001b[39m\u001b[39mbefore_training should return the model\u001b[39m\u001b[39m'\u001b[39m\n\u001b[1;32m    150\u001b[0m     \u001b[39mif\u001b[39;00m \u001b[39mself\u001b[39m\u001b[39m.\u001b[39mis_cv:\n",
            "File \u001b[0;32m/opt/miniconda3/envs/ml_api/lib/python3.10/site-packages/xgboost/callback.py:350\u001b[0m, in \u001b[0;36mEarlyStopping.before_training\u001b[0;34m(self, model)\u001b[0m\n\u001b[1;32m    349\u001b[0m \u001b[39mdef\u001b[39;00m \u001b[39mbefore_training\u001b[39m(\u001b[39mself\u001b[39m, model: _Model) \u001b[39m-\u001b[39m\u001b[39m>\u001b[39m _Model:\n\u001b[0;32m--> 350\u001b[0m     \u001b[39mself\u001b[39m\u001b[39m.\u001b[39mstarting_round \u001b[39m=\u001b[39m model\u001b[39m.\u001b[39;49mnum_boosted_rounds()\n\u001b[1;32m    351\u001b[0m     \u001b[39mreturn\u001b[39;00m model\n",
            "File \u001b[0;32m/opt/miniconda3/envs/ml_api/lib/python3.10/site-packages/xgboost/core.py:2466\u001b[0m, in \u001b[0;36mBooster.num_boosted_rounds\u001b[0;34m(self)\u001b[0m\n\u001b[1;32m   2464\u001b[0m rounds \u001b[39m=\u001b[39m ctypes\u001b[39m.\u001b[39mc_int()\n\u001b[1;32m   2465\u001b[0m \u001b[39massert\u001b[39;00m \u001b[39mself\u001b[39m\u001b[39m.\u001b[39mhandle \u001b[39mis\u001b[39;00m \u001b[39mnot\u001b[39;00m \u001b[39mNone\u001b[39;00m\n\u001b[0;32m-> 2466\u001b[0m _check_call(_LIB\u001b[39m.\u001b[39;49mXGBoosterBoostedRounds(\u001b[39mself\u001b[39;49m\u001b[39m.\u001b[39;49mhandle, ctypes\u001b[39m.\u001b[39;49mbyref(rounds)))\n\u001b[1;32m   2467\u001b[0m \u001b[39mreturn\u001b[39;00m rounds\u001b[39m.\u001b[39mvalue\n",
            "File \u001b[0;32m/opt/miniconda3/envs/ml_api/lib/python3.10/site-packages/xgboost/core.py:279\u001b[0m, in \u001b[0;36m_check_call\u001b[0;34m(ret)\u001b[0m\n\u001b[1;32m    268\u001b[0m \u001b[39m\"\"\"Check the return value of C API call\u001b[39;00m\n\u001b[1;32m    269\u001b[0m \n\u001b[1;32m    270\u001b[0m \u001b[39mThis function will raise exception when error occurs.\u001b[39;00m\n\u001b[0;32m   (...)\u001b[0m\n\u001b[1;32m    276\u001b[0m \u001b[39m    return value from API calls\u001b[39;00m\n\u001b[1;32m    277\u001b[0m \u001b[39m\"\"\"\u001b[39;00m\n\u001b[1;32m    278\u001b[0m \u001b[39mif\u001b[39;00m ret \u001b[39m!=\u001b[39m \u001b[39m0\u001b[39m:\n\u001b[0;32m--> 279\u001b[0m     \u001b[39mraise\u001b[39;00m XGBoostError(py_str(_LIB\u001b[39m.\u001b[39mXGBGetLastError()))\n",
            "\u001b[0;31mXGBoostError\u001b[0m: [09:20:12] /Users/runner/work/xgboost/xgboost/python-package/build/temp.macosx-11.0-arm64-cpython-38/xgboost/src/gbm/../common/common.h:239: XGBoost version not compiled with GPU support.\nStack trace:\n  [bt] (0) 1   libxgboost.dylib                    0x00000001483e6534 dmlc::LogMessageFatal::~LogMessageFatal() + 124\n  [bt] (1) 2   libxgboost.dylib                    0x00000001484cb760 xgboost::gbm::GBTree::ConfigureUpdaters() + 476\n  [bt] (2) 3   libxgboost.dylib                    0x00000001484c68c0 xgboost::gbm::GBTree::Configure(std::__1::vector<std::__1::pair<std::__1::basic_string<char, std::__1::char_traits<char>, std::__1::allocator<char> >, std::__1::basic_string<char, std::__1::char_traits<char>, std::__1::allocator<char> > >, std::__1::allocator<std::__1::pair<std::__1::basic_string<char, std::__1::char_traits<char>, std::__1::allocator<char> >, std::__1::basic_string<char, std::__1::char_traits<char>, std::__1::allocator<char> > > > > const&) + 952\n  [bt] (3) 4   libxgboost.dylib                    0x00000001484e66f8 xgboost::LearnerConfiguration::Configure() + 1124\n  [bt] (4) 5   libxgboost.dylib                    0x00000001483ff140 XGBoosterBoostedRounds + 104\n  [bt] (5) 6   libffi.8.dylib                      0x00000001039f404c ffi_call_SYSV + 76\n  [bt] (6) 7   libffi.8.dylib                      0x00000001039f17d4 ffi_call_int + 1336\n  [bt] (7) 8   _ctypes.cpython-310-darwin.so       0x00000001039d41ac _ctypes_callproc + 952\n  [bt] (8) 9   _ctypes.cpython-310-darwin.so       0x00000001039ce388 PyCFuncPtr_call + 228\n\n"
          ]
        }
      ],
      "source": [
        "base_xgb = XGBClassifier(objective='binary:logistic',\n",
        " seed=42, random_state=42, tree_method='gpu_hist', n_jobs=-1, early_stopping_rounds=10,\n",
        "eval_set=[(X_test, y_test)])\n",
        "\n",
        "base_xgb_pipe = make_pipeline(preprocessor, base_xgb)\n",
        "\n",
        "base_xgb_pipe.fit(X_train, \n",
        "                  y_train,\n",
        "                  xgbclassifier__verbose=False\n",
        "                  )"
      ]
    },
    {
      "cell_type": "code",
      "execution_count": null,
      "metadata": {
        "id": "FEj23MAzLCK9"
      },
      "outputs": [
        {
          "ename": "",
          "evalue": "",
          "output_type": "error",
          "traceback": [
            "\u001b[1;31mRunning cells with '/opt/homebrew/bin/python3' requires ipykernel package.\n",
            "\u001b[1;31mRun the following command to install 'ipykernel' into the Python environment. \n",
            "\u001b[1;31mCommand: '/opt/homebrew/bin/python3 -m pip install ipykernel -U --user --force-reinstall'"
          ]
        }
      ],
      "source": [
        "y_pred = cross_val_predict(base_xgb_pipe, X_train, y_train)"
      ]
    },
    {
      "cell_type": "code",
      "execution_count": null,
      "metadata": {
        "colab": {
          "base_uri": "https://localhost:8080/"
        },
        "id": "04oEPt_8Pqjs",
        "outputId": "fee1bd0b-b6a5-43b6-ecf3-a188ac2d117e"
      },
      "outputs": [
        {
          "ename": "",
          "evalue": "",
          "output_type": "error",
          "traceback": [
            "\u001b[1;31mRunning cells with '/opt/homebrew/bin/python3' requires ipykernel package.\n",
            "\u001b[1;31mRun the following command to install 'ipykernel' into the Python environment. \n",
            "\u001b[1;31mCommand: '/opt/homebrew/bin/python3 -m pip install ipykernel -U --user --force-reinstall'"
          ]
        }
      ],
      "source": [
        "print(classification_report(y_train, y_pred, target_names = ['faible', 'élevée']))"
      ]
    },
    {
      "cell_type": "code",
      "execution_count": null,
      "metadata": {
        "colab": {
          "base_uri": "https://localhost:8080/"
        },
        "id": "3h35YQsCQBfj",
        "outputId": "872d4378-1697-45fe-fdf4-69062e491883"
      },
      "outputs": [
        {
          "ename": "",
          "evalue": "",
          "output_type": "error",
          "traceback": [
            "\u001b[1;31mRunning cells with '/opt/homebrew/bin/python3' requires ipykernel package.\n",
            "\u001b[1;31mRun the following command to install 'ipykernel' into the Python environment. \n",
            "\u001b[1;31mCommand: '/opt/homebrew/bin/python3 -m pip install ipykernel -U --user --force-reinstall'"
          ]
        }
      ],
      "source": [
        "ConfusionMatrixDisplay(confusion_matrix(y_train, y_pred))"
      ]
    },
    {
      "cell_type": "code",
      "execution_count": null,
      "metadata": {
        "id": "HcokhSXLSfHS"
      },
      "outputs": [
        {
          "ename": "",
          "evalue": "",
          "output_type": "error",
          "traceback": [
            "\u001b[1;31mRunning cells with '/opt/homebrew/bin/python3' requires ipykernel package.\n",
            "\u001b[1;31mRun the following command to install 'ipykernel' into the Python environment. \n",
            "\u001b[1;31mCommand: '/opt/homebrew/bin/python3 -m pip install ipykernel -U --user --force-reinstall'"
          ]
        }
      ],
      "source": [
        "positives = sum(y) / len(y)\n",
        "negatives = 1 - positives\n",
        "scale_ratio = negatives / positives"
      ]
    },
    {
      "cell_type": "code",
      "execution_count": null,
      "metadata": {
        "colab": {
          "base_uri": "https://localhost:8080/"
        },
        "id": "wGVFjgiATwld",
        "outputId": "861026dc-5cde-4fbd-9958-db088e628346"
      },
      "outputs": [
        {
          "ename": "",
          "evalue": "",
          "output_type": "error",
          "traceback": [
            "\u001b[1;31mRunning cells with '/opt/homebrew/bin/python3' requires ipykernel package.\n",
            "\u001b[1;31mRun the following command to install 'ipykernel' into the Python environment. \n",
            "\u001b[1;31mCommand: '/opt/homebrew/bin/python3 -m pip install ipykernel -U --user --force-reinstall'"
          ]
        }
      ],
      "source": [
        "scale_ratio"
      ]
    },
    {
      "cell_type": "code",
      "execution_count": null,
      "metadata": {
        "colab": {
          "base_uri": "https://localhost:8080/"
        },
        "id": "JNjFyWqZQQ8O",
        "outputId": "7587acf1-aa30-4b74-f4db-04a0112b952f"
      },
      "outputs": [
        {
          "ename": "",
          "evalue": "",
          "output_type": "error",
          "traceback": [
            "\u001b[1;31mRunning cells with '/opt/homebrew/bin/python3' requires ipykernel package.\n",
            "\u001b[1;31mRun the following command to install 'ipykernel' into the Python environment. \n",
            "\u001b[1;31mCommand: '/opt/homebrew/bin/python3 -m pip install ipykernel -U --user --force-reinstall'"
          ]
        }
      ],
      "source": [
        "param_grid = {'xgbclassifier__max_depth' : [7,12,15],\n",
        "              'xgbclassifier__learning_rate' : [0.5],\n",
        "              'xgbclassifier__gamma' : [1],\n",
        "              'xgbclassifier__reg_lambda' : [15],\n",
        "              'xgbclassifier__scale_pos_weight' : [scale_ratio]\n",
        "              }\n",
        "\n",
        "grid = GridSearchCV(\n",
        "    estimator=base_xgb_pipe,\n",
        "    param_grid=param_grid,\n",
        "    scoring='roc_auc',\n",
        "    verbose=2,\n",
        "    n_jobs=-1,\n",
        "    cv=3\n",
        ")\n",
        "\n",
        "grid.fit(X_train, y_train)"
      ]
    },
    {
      "cell_type": "code",
      "execution_count": null,
      "metadata": {},
      "outputs": [
        {
          "ename": "",
          "evalue": "",
          "output_type": "error",
          "traceback": [
            "\u001b[1;31mRunning cells with '/opt/homebrew/bin/python3' requires ipykernel package.\n",
            "\u001b[1;31mRun the following command to install 'ipykernel' into the Python environment. \n",
            "\u001b[1;31mCommand: '/opt/homebrew/bin/python3 -m pip install ipykernel -U --user --force-reinstall'"
          ]
        }
      ],
      "source": [
        "grid.score(X_test,y_test)"
      ]
    },
    {
      "cell_type": "code",
      "execution_count": null,
      "metadata": {
        "id": "K8aWilABUjR6"
      },
      "outputs": [
        {
          "ename": "",
          "evalue": "",
          "output_type": "error",
          "traceback": [
            "\u001b[1;31mRunning cells with '/opt/homebrew/bin/python3' requires ipykernel package.\n",
            "\u001b[1;31mRun the following command to install 'ipykernel' into the Python environment. \n",
            "\u001b[1;31mCommand: '/opt/homebrew/bin/python3 -m pip install ipykernel -U --user --force-reinstall'"
          ]
        }
      ],
      "source": [
        "xgb_pipe = grid.best_estimator_"
      ]
    },
    {
      "cell_type": "code",
      "execution_count": null,
      "metadata": {},
      "outputs": [
        {
          "ename": "",
          "evalue": "",
          "output_type": "error",
          "traceback": [
            "\u001b[1;31mRunning cells with '/opt/homebrew/bin/python3' requires ipykernel package.\n",
            "\u001b[1;31mRun the following command to install 'ipykernel' into the Python environment. \n",
            "\u001b[1;31mCommand: '/opt/homebrew/bin/python3 -m pip install ipykernel -U --user --force-reinstall'"
          ]
        }
      ],
      "source": [
        "grid.best_params_"
      ]
    },
    {
      "cell_type": "code",
      "execution_count": null,
      "metadata": {},
      "outputs": [
        {
          "ename": "",
          "evalue": "",
          "output_type": "error",
          "traceback": [
            "\u001b[1;31mRunning cells with '/opt/homebrew/bin/python3' requires ipykernel package.\n",
            "\u001b[1;31mRun the following command to install 'ipykernel' into the Python environment. \n",
            "\u001b[1;31mCommand: '/opt/homebrew/bin/python3 -m pip install ipykernel -U --user --force-reinstall'"
          ]
        }
      ],
      "source": [
        "y_pred = cross_val_predict(xgb_pipe, X_train, y_train)"
      ]
    },
    {
      "cell_type": "code",
      "execution_count": null,
      "metadata": {},
      "outputs": [
        {
          "ename": "",
          "evalue": "",
          "output_type": "error",
          "traceback": [
            "\u001b[1;31mRunning cells with '/opt/homebrew/bin/python3' requires ipykernel package.\n",
            "\u001b[1;31mRun the following command to install 'ipykernel' into the Python environment. \n",
            "\u001b[1;31mCommand: '/opt/homebrew/bin/python3 -m pip install ipykernel -U --user --force-reinstall'"
          ]
        }
      ],
      "source": [
        "print(classification_report(y_train, y_pred, target_names = ['faible', 'élevée']))"
      ]
    },
    {
      "cell_type": "code",
      "execution_count": null,
      "metadata": {},
      "outputs": [
        {
          "ename": "",
          "evalue": "",
          "output_type": "error",
          "traceback": [
            "\u001b[1;31mRunning cells with '/opt/homebrew/bin/python3' requires ipykernel package.\n",
            "\u001b[1;31mRun the following command to install 'ipykernel' into the Python environment. \n",
            "\u001b[1;31mCommand: '/opt/homebrew/bin/python3 -m pip install ipykernel -U --user --force-reinstall'"
          ]
        }
      ],
      "source": [
        "ConfusionMatrixDisplay(confusion_matrix(y_train, y_pred)).plot()"
      ]
    },
    {
      "cell_type": "code",
      "execution_count": null,
      "metadata": {
        "id": "Ma3WZK4NVM6R"
      },
      "outputs": [
        {
          "ename": "",
          "evalue": "",
          "output_type": "error",
          "traceback": [
            "\u001b[1;31mRunning cells with '/opt/homebrew/bin/python3' requires ipykernel package.\n",
            "\u001b[1;31mRun the following command to install 'ipykernel' into the Python environment. \n",
            "\u001b[1;31mCommand: '/opt/homebrew/bin/python3 -m pip install ipykernel -U --user --force-reinstall'"
          ]
        }
      ],
      "source": [
        "import pickle\n",
        "pickle.dump(xgb_pipe, open('rfc.pkl', 'wb'))"
      ]
    },
    {
      "cell_type": "code",
      "execution_count": null,
      "metadata": {
        "id": "zUJj-4vlVVBJ"
      },
      "outputs": [
        {
          "ename": "",
          "evalue": "",
          "output_type": "error",
          "traceback": [
            "\u001b[1;31mRunning cells with '/opt/homebrew/bin/python3' requires ipykernel package.\n",
            "\u001b[1;31mRun the following command to install 'ipykernel' into the Python environment. \n",
            "\u001b[1;31mCommand: '/opt/homebrew/bin/python3 -m pip install ipykernel -U --user --force-reinstall'"
          ]
        }
      ],
      "source": []
    }
  ],
  "metadata": {
    "accelerator": "GPU",
    "colab": {
      "machine_shape": "hm",
      "provenance": []
    },
    "gpuClass": "premium",
    "kernelspec": {
      "display_name": "ml_api",
      "language": "python",
      "name": "python3"
    },
    "language_info": {
      "codemirror_mode": {
        "name": "ipython",
        "version": 3
      },
      "file_extension": ".py",
      "mimetype": "text/x-python",
      "name": "python",
      "nbconvert_exporter": "python",
      "pygments_lexer": "ipython3",
      "version": "3.10.8"
    },
    "vscode": {
      "interpreter": {
        "hash": "df4670e2ea43c79427ae1e02238740409ca9ac21351af0c6c0203f04d102a455"
      }
    }
  },
  "nbformat": 4,
  "nbformat_minor": 0
}
